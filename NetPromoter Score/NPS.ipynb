{
 "cells": [
  {
   "cell_type": "markdown",
   "metadata": {},
   "source": [
    "------\n",
    "## THE NET PROMOTER SCORE\n",
    "Net Promoter Score, more commonly known as NPS, is a [customer success metric](https://en.wikipedia.org/wiki/Customer_success) that quantifies customer satisfaction. You've probably been asked to fill in surveys that contained some variation of the question \"How likely are you to recommend this product to a friend?\" and whose possible answers were 11 numbers on a scale from 0 to 10.\n",
    "\n",
    "\n",
    "\n",
    "![](images/nps_question.png)\n",
    "\n",
    "\n",
    "\n",
    "\n",
    "Customers who pick:\n",
    "\n",
    "- Anything from 0 through 6 are called detractors;\n",
    "- 7 or 8 are called passives;\n",
    "- 9 or 10 are called promoters;\n",
    "\n",
    "By proxy each of these categories are gauged as follows:\n",
    "\n",
    "- `Detractors`: Unhappy customers who share their negative experience with the product or company; they may actively spread negative feedback.\n",
    "\n",
    "- `Passives`: Customers who may be pleased with the product, but aren't actively promoting it and will quickly turn to the competition if a better opportunity presents itself.\n",
    "\n",
    "- `Promoters`: Extremely satisfied customers who will act as brand ambassadors.\n",
    "\n",
    "NPS is then calculated as the percentage of promoters minus the percentage of detractors.\n",
    "\n",
    "![](images/nps_computation.png)"
   ]
  },
  {
   "cell_type": "markdown",
   "metadata": {},
   "source": [
    "#### Categorize Function\n",
    "The function, `categorize`, returns the respective category for each possible score:\n",
    "\n",
    "   - Scores `0` through `6` should be categorized as `\"Detractor\"`;\n",
    "\n",
    "   - Scores `7` and `8` should be categorized as `\"Passive\"`;\n",
    "\n",
    "   - Scores `9` and `10` should be categorized as `\"Promoter\"`;"
   ]
  },
  {
   "cell_type": "code",
   "execution_count": 1,
   "metadata": {},
   "outputs": [],
   "source": [
    "def categorize(score):\n",
    "    \"\"\"Returns NPS category\"\"\"\n",
    "    if score in range(0,7):\n",
    "        return \"Detractor\"\n",
    "    elif score in (7, 8):\n",
    "        return \"Passive\"\n",
    "    elif score in (9,10):\n",
    "        return \"Promoter\"\n",
    "    return None"
   ]
  },
  {
   "cell_type": "markdown",
   "metadata": {},
   "source": [
    "Note that NPS can range between -100% (if everyone is a detractor) and 100% (if everyone is a promoter).\n",
    "\n",
    "Let's see a small example:\n",
    "\n",
    "|Customer|Score|\n",
    "|-------|-----|\n",
    "|Rashid Nezhmetdinov|8|\n",
    "|Vasily Smyslov|10|\n",
    "|José Raúl Capablanca|9|\n",
    "|Robert James Fischer|5|\n",
    "|Emanuel Lasker|7|\n",
    "|Aron Nimzowitsch|2|\n",
    "|Mikhail Botvinnik|3|\n",
    "|Mikhail Tal|1|\n",
    "\n",
    "We have:\n",
    "\n",
    "- 8 customers\n",
    "- 2 promoters: Capablanca and Smyslov;\n",
    "  - Therefore the percentage of promoters is 25%\n",
    "- 2 passives: Nezhmetdinov and Lasker\n",
    "- 4 detractors: Fischer, Nimzowitsch, Botvinnik and Tal\n",
    "  - Therefore the percentage of detractors is 50%\n",
    "\n",
    "The NPS is 25-50, or -25. Usually people do not include the percentage sign and just say that the NPS is -25, but it's simply an aesthetics choice.\n",
    "\n",
    "Below is the computation of the net promoter score.\n",
    "\n",
    "The data is stored in the file `nps_dataset.csv`.\n"
   ]
  },
  {
   "cell_type": "markdown",
   "metadata": {},
   "source": [
    "#### Import Dependencies"
   ]
  },
  {
   "cell_type": "code",
   "execution_count": null,
   "metadata": {},
   "outputs": [],
   "source": [
    "import pandas as pd\n",
    "import datetime as dt\n",
    "import matplotlib.pyplot as plt\n",
    "import seaborn as sns"
   ]
  },
  {
   "cell_type": "markdown",
   "metadata": {},
   "source": [
    "Read in the dataset stored in the file `nps_dataset.csv` as a DataFrame"
   ]
  },
  {
   "cell_type": "code",
   "execution_count": null,
   "metadata": {},
   "outputs": [],
   "source": [
    "# Read in the dataset as a DataFrame\n",
    "df = pd.read_csv(\"inputData/nps_dataset.csv\")\n",
    "df.head(7)"
   ]
  },
  {
   "cell_type": "markdown",
   "metadata": {},
   "source": [
    "Extract the dates, ids, and scores from the DataFrame and create a new DataFrame `df` with three columns:\n",
    "\n",
    "- `event_date`: The date and time in which customers completed the survey\n",
    "- `user_id`: A customer identifier\n",
    "- `score`: Their answer to the question featured above\n",
    "\n",
    "The dates pertain the year of 2020 only and the dataset has no missing values."
   ]
  },
  {
   "cell_type": "code",
   "execution_count": null,
   "metadata": {},
   "outputs": [],
   "source": [
    "# Extract the dates, ids, and scores\n",
    "df_dates = [pd.to_datetime(df.iloc[2+i].values[0]) for i in list(range(0, len(df)-2, 3))]\n",
    "df_ids = [int(df.iloc[3+i].values[0]) for i in list(range(0, len(df)-4, 3))]\n",
    "df_scores = [int(df.iloc[4+i].values[0]) for i in list(range(0, len(df)-2, 3))]\n",
    "\n",
    "# Create a DataFrame with the correct columns from the data\n",
    "df = pd.DataFrame({'event_date': df_dates,\n",
    "                  'id': df_ids,\n",
    "                  'score':df_scores})\n",
    "df.head()"
   ]
  },
  {
   "cell_type": "markdown",
   "metadata": {},
   "source": [
    "Metrics are tracked across time, and this will track NPS month by month.\n",
    "\n",
    "1. Create a numeric column in `df` called `yearmonth` that stores the year and the month of each row in the `yyyymm` format.\n",
    "\n",
    "2. Create a column in `df` called `\"category\"` that assigns the category corresponding to its score to each row. Use the function `categorize` \n",
    "\n",
    "3. Create a new dataframe with the NPS for each month:\n",
    "\n",
    "   1. Assign to `nps` the result of using `df.pivot_table()` with:\n",
    "      - `yearmonth` as the index\n",
    "      - `category` as a column\n",
    "      - The string `size` as an aggregating function\n",
    "\n",
    "   2. Create a new column in `nps` whose values are the sum of the values of each row to get the total number of responses for the month. This column should be called `total_responses`.\n",
    "\n",
    "   3. Subtract detractors from the promoters and divide the result by the `total_responses` column. Assign the result of this computation to `nps`\n",
    "\n",
    "   4. Multiply the `nps` column by 100, cast it as integer using the [`Series.astype()` method](https://pandas.pydata.org/pandas-docs/stable/reference/api/pandas.Series.astype.html). Assign it back to `nps[\"nps\"]`."
   ]
  },
  {
   "cell_type": "code",
   "execution_count": null,
   "metadata": {},
   "outputs": [],
   "source": [
    "df[\"yearmonth\"] = df[\"event_date\"].dt.strftime('%Y%m')\n",
    "\n",
    "df[\"category\"] = df[\"score\"].apply(categorize)\n",
    "\n",
    "nps = df.pivot_table(index=\"yearmonth\", columns=\"category\", aggfunc=\"size\")\n",
    "nps['total_responses']=nps.sum(axis=1)\n",
    "nps['nps'] = (nps['Promoter'] - nps['Detractor'])/nps['total_responses']\n",
    "nps['nps'] = (100*nps['nps']).astype(int)\n",
    "nps"
   ]
  },
  {
   "cell_type": "markdown",
   "metadata": {},
   "source": [
    "------\n",
    "## ANALYZYING NPS\n",
    "\n",
    "Note that `nps` as an integer, as this is how the net promoter score is usually presented.\n",
    "\n",
    "Typically, when presenting a metric, it is done so in a dashboard, together with other relevant metrics. The following is a customer satisfaction dashboard taken fron [SlideModel.com](www.SlideModel.com)\n",
    "\n",
    "![](images/slidemodel.jpg)\n",
    "\n",
    "It is lacking chronological context. The NPS is 48; did it grow or did it decrease? How is it doing relative to the past few months?\n",
    "\n",
    "Create a graph for `nps`:"
   ]
  },
  {
   "cell_type": "code",
   "execution_count": null,
   "metadata": {},
   "outputs": [],
   "source": [
    "nps_graph = nps.reset_index()\n",
    "plt.figure(figsize=(10,6))\n",
    "chart = sns.lineplot(x='yearmonth',y='nps',data=nps_graph)\n",
    "chart.set_xticks(nps_graph.index)\n",
    "chart.set_xticklabels(nps_graph['yearmonth'], rotation=45)\n",
    "chart.set_ylabel('NPS')\n",
    "chart.set_title('NPS per Month')\n",
    "plt.savefig('output_images/NPS_per_month.png', bbox_inches='tight')"
   ]
  },
  {
   "cell_type": "markdown",
   "metadata": {},
   "source": [
    "Now suppose it is December 2020, the NPS is just above 30. We can immediately tell it is doing bad, at least in view of the last few months. What to do about this? This is where the \"actionable\" characteristic comes in.\n",
    "\n",
    "If we want to improve NPS, we must improve customer satisfaction. The company can begin by surveying its customers to get feedback and gain some understanding as to what's driving this apparent insatisfaction. In fact, it's standard practice in NPS surveys to have a freeform text box where customers can share their feedback with us. Once we have this feedback, we can act upon it as see how it impacts our NPS; hopefully it will improve it.\n",
    "\n",
    "It can also happen that the result of the survey shows that what led to this dissatisfaction was a recent change in the product. This is something to watch out for even before the survey is completed.\n",
    "\n",
    "Also note how NPS ticks several, if not all, of the boxes of what makes a good metric: it is accurate, simple and intelligible, easy to drill down into (we know the score of every customer), it's dynamic, and so on.\n",
    "\n",
    "Every metric has its pros and cons. It may seem like NPS is too simplistic a model to be useful, but it is in fact positively correlated with business growth. [Fred Reichheld](https://en.wikipedia.org/wiki/Fred_Reichheld), a business strategist, even called it \"the one number you need to grow\".\n",
    "\n",
    "Cons include:\n",
    "\n",
    "- Requiring feedback from customers for it to be actionable — and most customers don't give feedback.\n",
    "- It doesn't account for the influence of each respondent, or the influence of each category of respondents. Perhaps unsatisfied customers are more likely to voice their unhappiness on social media than promoters are to voice how happy they are, for instance.\n",
    "\n",
    "In December, the NPS was very low, relative to the past few months. But is it actually low? Perhaps it was the other months that were high. Gauging how good an NPS is requires taking into account other factors, like geographic location and industry.\n",
    "\n",
    "\n",
    "\n",
    "![](images/retently_resized.png)\n",
    "\n",
    "As we can see, net promoter scores vary greatly across industries — telecommunication companies (unlisted above) even average a non-positive NPS! In order to gain insight into how a NPS fares, we must take these factors into account."
   ]
  },
  {
   "cell_type": "code",
   "execution_count": null,
   "metadata": {},
   "outputs": [],
   "source": []
  }
 ],
 "metadata": {
  "kernelspec": {
   "display_name": "Python 3",
   "language": "python",
   "name": "python3"
  },
  "language_info": {
   "codemirror_mode": {
    "name": "ipython",
    "version": 3
   },
   "file_extension": ".py",
   "mimetype": "text/x-python",
   "name": "python",
   "nbconvert_exporter": "python",
   "pygments_lexer": "ipython3",
   "version": "3.7.3"
  }
 },
 "nbformat": 4,
 "nbformat_minor": 2
}
